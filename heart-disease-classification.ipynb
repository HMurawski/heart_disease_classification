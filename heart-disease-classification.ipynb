{
 "cells": [
  {
   "cell_type": "markdown",
   "id": "d4424c55-a2f8-4fb6-9ec1-136a879ecf99",
   "metadata": {},
   "source": [
    "# Predicting heart disease using machine learning\n",
    "\n",
    "This notebook looks into using various Python-base ML and data science libraries in an attempt to build a machine learning mode capable of predicting whether or not someone has heart disease based on their medical attributes.  \n",
    "\n",
    "I'm going to take the following approach: \n",
    "1. Problem definition\n",
    "2. Data\n",
    "3. Evaluation\n",
    "4. Features\n",
    "5. Modelling\n",
    "6. Experimentation"
   ]
  },
  {
   "cell_type": "markdown",
   "id": "4f366099-493b-4c68-8646-a14ccd6c1e2a",
   "metadata": {},
   "source": [
    "## 1. Problem definition\n",
    "\n",
    "In a statement,\n",
    "> Given clinical parameters about a patient, can it be predicted if they have a heart disease?\n",
    "\n",
    "## 2. Data \n",
    "\n",
    "This database contains 76 attributes, but all published experiments refer to using a subset of 14 of them.  In particular, the Cleveland database is the only one that has been used by ML researchers to date.  The \"goal\" field refers to the presence of heart disease in the patient.  It is integer valued from 0 (no presence) to 4. Experiments with the Cleveland database have concentrated on simply attempting to distinguish presence (values 1,2,3,4) from absence (value 0).  \n",
    "\n",
    "Attributes used:\n",
    "1. 3  (age)       \n",
    "2. 4  (sex)       \n",
    "3. 9  (cp)        \n",
    "4. 10 (trestbps)  \n",
    "5. 12 (chol)      \n",
    "6. 16 (fbs)       \n",
    "7. 19 (restecg)   \n",
    "8. 32 (thalach)   \n",
    "9. 38 (exang)     \n",
    "10. 40 (oldpeak)   \n",
    "11. 41 (slope)     \n",
    "12. 44 (ca)        \n",
    "13. 51 (thal)      \n",
    "14. 58 (num)       (the predicted attribute)"
   ]
  },
  {
   "cell_type": "markdown",
   "id": "7ce21ce1-c032-41e1-99dd-815091a98574",
   "metadata": {},
   "source": [
    "## 3. Evaluation\n",
    "\n",
    "> If I can reach 95% accuracy at prediciting if the patient has heart disease during the proof of concept, I'll pursue the project."
   ]
  },
  {
   "cell_type": "markdown",
   "id": "1d2ca18a-3655-4077-9dff-6e124b6704ab",
   "metadata": {},
   "source": [
    "## 4. Features\n"
   ]
  },
  {
   "cell_type": "code",
   "execution_count": null,
   "id": "cc23cd3d-3938-4e11-b9b4-e9f0859743c1",
   "metadata": {},
   "outputs": [],
   "source": []
  }
 ],
 "metadata": {
  "kernelspec": {
   "display_name": "Python 3 (ipykernel)",
   "language": "python",
   "name": "python3"
  },
  "language_info": {
   "codemirror_mode": {
    "name": "ipython",
    "version": 3
   },
   "file_extension": ".py",
   "mimetype": "text/x-python",
   "name": "python",
   "nbconvert_exporter": "python",
   "pygments_lexer": "ipython3",
   "version": "3.9.18"
  }
 },
 "nbformat": 4,
 "nbformat_minor": 5
}
